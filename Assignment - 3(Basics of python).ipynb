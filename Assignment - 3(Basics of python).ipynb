#Exercise 1: Prime Numbers
num = int(input("Enter the number to check prime"))
if is_prime(num):
    print("It is a prime number",num)
else:
    print("It is not a prime number",num)
*********************************************************************************
#Exercise 2: Product of Random Numbers
import random
def generate_random_numbers():
    # generates two random numbers between 1 and 10.
    num1 = random.randint(10, 100) #range is from 10 to 100
    num2 = random.randint(2, 10) #range is from 2 to 10
    return num1, num2

def main():
    num1, num2 = generate_random_numbers()
    product = num1 * num2
    user_answer = int(input(f"What is the product of {num1} and {num2}? "))
    
    if user_answer == product:
        print("Congratulations! Your answer is correct.")
    else:
        print(f"Sorry, the correct answer is {product}.")

if __name__ == "__main__":
    main()
*********************************************************************************
#Exercise 3: Squares of Even/Odd Numbers
def print_square_of_even_numbers():
    print("Squares of even numbers within the range of 100 to 200:")
    for i in range(100, 201):
        #if i % 2 == 1:  # Choosing odd numbers
            #print(f"{i} squared is {i*i}")
        if i % 2 == 0:  # Choosing even numbers
            print(f"{i} squared is {i*i}")
print_square_of_even_numbers()
*********************************************************************************
#Exercise 4: Word counter
def count_words(text):
    words = text.split() #spliting the words
    word_count = {} #storing wordcount in the list
    
    for word in words:
        word_count[word] = word_count.get(word, 0) + 1
    return word_count

input_text = "This is a sample text. This text will be used to demonstrate the word counter."
word_count_dict = count_words(input_text)
print("Word counts:")
for word, count in word_count_dict.items():
    print(f"'{word}': {count}")
*********************************************************************************
#Exercise 5: Check for Palindrome
input_string = str(input("Enter the word to check if it is Palindrome"))
print(is_palindrome(input_string))  #checking with is_palindrome fun for an input string.
*********************************************************************************
